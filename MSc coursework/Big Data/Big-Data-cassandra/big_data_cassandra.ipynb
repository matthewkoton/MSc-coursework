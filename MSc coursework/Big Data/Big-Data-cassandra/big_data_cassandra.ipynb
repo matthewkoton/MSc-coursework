{
 "cells": [
  {
   "cell_type": "markdown",
   "id": "0e0163b2",
   "metadata": {
    "id": "0e0163b2"
   },
   "source": [
    "## <u>docker commands</u>\n",
    "\n",
    "docker pull cassandra:latest\n",
    "\n",
    "docker run --name cassandra-container -p 9042:9042 -d cassandra:latest\n",
    "\n",
    "docker exec -it cassandra-container cqlsh\n"
   ]
  },
  {
   "cell_type": "code",
   "execution_count": null,
   "id": "f43c53f6",
   "metadata": {
    "id": "f43c53f6",
    "outputId": "0e91e82d-3aeb-4634-a2d4-c3cc87187707"
   },
   "outputs": [],
   "source": [
    "import numpy as np\n",
    "import pandas as pd\n",
    "import csv\n",
    "from cassandra.cluster import Cluster\n",
    "from cassandra.query import BatchStatement, ConsistencyLevel, BatchType\n",
    "import os\n"
   ]
  },
  {
   "cell_type": "markdown",
   "id": "8a049716",
   "metadata": {
    "id": "8a049716"
   },
   "source": [
    "## <u>setting up dataframes <u>"
   ]
  },
  {
   "cell_type": "code",
   "execution_count": null,
   "id": "78583176",
   "metadata": {
    "id": "78583176",
    "outputId": "3f41b6ce-5d18-4306-d474-9e76e18282b2"
   },
   "outputs": [],
   "source": [
    "base_path = \"data\"\n",
    "\n",
    "artist_df = pd.read_csv(os.path.join(base_path,'spotify_artist_data_2023.csv'))\n",
    "albums_df = pd.read_csv(os.path.join(base_path,'spotify-albums_data_2023.csv'))\n",
    "features_df = pd.read_csv(os.path.join(base_path,'spotify_features_data_2023.csv'))\n",
    "tracks_df = pd.read_csv(os.path.join(base_path,'spotify_tracks_data_2023.csv'))\n",
    "data_df = pd.read_csv(os.path.join(base_path,'spotify_data_12_20_2023.csv'))"
   ]
  },
  {
   "cell_type": "code",
   "execution_count": null,
   "id": "582c8fae",
   "metadata": {
    "id": "582c8fae",
    "outputId": "3a2454b5-9ba4-4c94-f603-d5013b7eba6c"
   },
   "outputs": [],
   "source": [
    "##setting up our albums df\n",
    "\n",
    "drop_columns = ['artist_0', 'artist_1', 'artist_2', 'artist_3', 'artist_4', 'artist_5', 'artist_6', 'artist_7', 'artist_8', 'artist_9', 'artist_10', 'artist_11']\n",
    "\n",
    "# Fill 'artists' column containing lists of non-null artists\n",
    "albums_df['artists'] = albums_df.apply(lambda row: [value for key, value in row.items() if key in drop_columns and pd.notna(value)], axis=1)\n",
    "\n",
    "albums_df = albums_df.drop(drop_columns, axis=1)\n",
    "\n",
    "# Identify albums with missing values in the specified columns\n",
    "albums_with_missing_tracks = albums_df[albums_df[albums_df.columns].isna().any(axis=1)]['album_id'].unique()\n",
    "\n",
    "# Remove entire albums with missing values\n",
    "albums_df = albums_df[~albums_df['album_id'].isin(albums_with_missing_tracks)]\n",
    "\n",
    "albums_df = pd.merge(albums_df, tracks_df[['id', 'track_popularity']], left_on='track_id', right_on='id', how='inner')\n",
    "\n",
    "albums_df = albums_df.drop(['id'], axis=1)\n",
    "\n",
    "# Convert release_date to datetime\n",
    "albums_df['release_date'] = pd.to_datetime(albums_df['release_date'], utc=True)\n",
    "\n",
    "# Create release_year, release_month and release_day columns\n",
    "albums_df['release_year'] = albums_df['release_date'].dt.year\n",
    "albums_df['release_month'] = albums_df['release_date'].dt.month\n",
    "albums_df['release_day'] = albums_df['release_date'].dt.day\n",
    "\n",
    "# Add tracks features\n",
    "features_columns = ['danceability', 'loudness', 'energy', 'speechiness',\n",
    "       'acousticness', 'instrumentalness', 'liveness', 'valence', 'tempo', 'id']\n",
    "\n",
    "albums_df = pd.merge(albums_df, features_df[features_columns], left_on='track_id', right_on='id', how='inner')\n",
    "albums_df = albums_df.drop(['id'], axis=1)\n",
    "\n",
    "albums_df = pd.merge(albums_df, artist_df[['id', 'artist_genres']], left_on='artist_id', right_on='id', how='left')\n",
    "albums_df = albums_df.drop(['id'], axis=1)\n",
    "\n",
    "print(albums_df.shape[1])\n",
    "\n"
   ]
  },
  {
   "cell_type": "markdown",
   "id": "ce2e6545",
   "metadata": {
    "id": "ce2e6545"
   },
   "source": [
    "## <u>code for inserting data into cassandra table </u>\n",
    "\n",
    "note that when using batch we should make our batch all with the same partition key\n",
    "\n",
    "below is code to enter the track info csv.  We first create seperate dataframes based on potential values for primary keys and then insert individually\n",
    "    \n",
    "We still need to change the code to work for our exact desired tables\n",
    "    \n",
    "    "
   ]
  },
  {
   "cell_type": "code",
   "execution_count": null,
   "id": "9c4d4912",
   "metadata": {
    "id": "9c4d4912"
   },
   "outputs": [],
   "source": [
    "## connect to cassandra\n",
    "try:\n",
    "    cluster = Cluster(['127.0.0.1'])\n",
    "    session = cluster.connect()\n",
    "except Exception as e:\n",
    "    print(e)"
   ]
  },
  {
   "cell_type": "code",
   "execution_count": null,
   "id": "350577ea",
   "metadata": {
    "id": "350577ea"
   },
   "outputs": [],
   "source": [
    "## create keyspace\n",
    "\n",
    "try:\n",
    "    session.execute(\"\"\"\n",
    "        CREATE KEYSPACE IF NOT EXISTS spotify\n",
    "        WITH REPLICATION =\n",
    "        {'class': 'SimpleStrategy', 'replication_factor': 1}\n",
    "    \"\"\")\n",
    "\n",
    "except Exception as e:\n",
    "    print(e)\n",
    "\n",
    "\n",
    "session.set_keyspace('spotify')"
   ]
  },
  {
   "cell_type": "code",
   "execution_count": null,
   "id": "a7b2bdc3-b27e-4924-bfcb-a5eddc25474c",
   "metadata": {
    "id": "a7b2bdc3-b27e-4924-bfcb-a5eddc25474c"
   },
   "outputs": [],
   "source": [
    "# session.execute(\"DROP TABLE spotify.track_info_release_year;\")"
   ]
  },
  {
   "cell_type": "code",
   "execution_count": null,
   "id": "081aa16f",
   "metadata": {
    "id": "081aa16f"
   },
   "outputs": [],
   "source": [
    "## create table 1\n",
    "\n",
    "try:\n",
    "    session.execute(\"\"\"\n",
    "        CREATE TABLE IF NOT EXISTS track_info_release_year (\n",
    "            track_name TEXT,\n",
    "            track_id TEXT,\n",
    "            track_number TEXT,\n",
    "            duration_ms TEXT,\n",
    "            album_type TEXT,\n",
    "            artists TEXT,\n",
    "            total_tracks TEXT,\n",
    "            album_name TEXT,\n",
    "            release_date TEXT,\n",
    "            label TEXT,\n",
    "            album_popularity TEXT,\n",
    "            album_id TEXT,\n",
    "            artist_id TEXT,\n",
    "            duration_sec TEXT,\n",
    "            release_year TEXT,\n",
    "            track_popularity TEXT,\n",
    "            release_month TEXT,\n",
    "            release_day TEXT,\n",
    "            danceability FLOAT,\n",
    "            loudness FLOAT,\n",
    "            energy FLOAT,\n",
    "            speechiness FLOAT,\n",
    "            acousticness FLOAT,\n",
    "            instrumentalness FLOAT,\n",
    "            liveness FLOAT,\n",
    "            valence FLOAT,\n",
    "            tempo FLOAT,\n",
    "            artist_genres TEXT,\n",
    "            PRIMARY KEY (release_year, track_id));\n",
    "    \"\"\")\n",
    "except Exception as e:\n",
    "    print(e)"
   ]
  },
  {
   "cell_type": "code",
   "execution_count": null,
   "id": "221d1f00",
   "metadata": {
    "id": "221d1f00"
   },
   "outputs": [],
   "source": [
    "## create table 2\n",
    "\n",
    "try:\n",
    "    session.execute(\"\"\"\n",
    "        CREATE TABLE IF NOT EXISTS track_info_popularity (\n",
    "            track_name TEXT,\n",
    "            track_id TEXT,\n",
    "            track_number TEXT,\n",
    "            duration_ms TEXT,\n",
    "            album_type TEXT,\n",
    "            artists TEXT,\n",
    "            total_tracks TEXT,\n",
    "            album_name TEXT,\n",
    "            release_date TEXT,\n",
    "            label TEXT,\n",
    "            album_popularity TEXT,\n",
    "            album_id TEXT,\n",
    "            artist_id TEXT,\n",
    "            duration_sec TEXT,\n",
    "            track_popularity TEXT,\n",
    "            release_year TEXT,\n",
    "            release_month TEXT,\n",
    "            release_day TEXT,\n",
    "            danceability FLOAT,\n",
    "            loudness FLOAT,\n",
    "            energy FLOAT,\n",
    "            speechiness FLOAT,\n",
    "            acousticness FLOAT,\n",
    "            instrumentalness FLOAT,\n",
    "            liveness FLOAT,\n",
    "            valence FLOAT,\n",
    "            tempo FLOAT,\n",
    "            artist_genres TEXT,\n",
    "            PRIMARY KEY (track_popularity, track_id));\n",
    "    \"\"\")\n",
    "except Exception as e:\n",
    "    print(e)"
   ]
  },
  {
   "cell_type": "code",
   "execution_count": null,
   "id": "a9d33f5a",
   "metadata": {
    "id": "a9d33f5a"
   },
   "outputs": [],
   "source": [
    "## reduce csv size\n",
    "\n",
    "def limit_csv_lines(input_path, output_path, limit):\n",
    "    with open(input_path, 'r', newline='') as input_file:\n",
    "        csv_reader = csv.reader(input_file)\n",
    "        header = next(csv_reader, None)  # Assuming the file has a header\n",
    "\n",
    "        lines_to_write = []\n",
    "        for _ in range(limit):\n",
    "            try:\n",
    "                row = next(csv_reader)\n",
    "                lines_to_write.append(row)\n",
    "            except StopIteration:\n",
    "                break\n",
    "\n",
    "    with open(output_path, 'w', newline='') as output_file:\n",
    "        csv_writer = csv.writer(output_file)\n",
    "        if header:\n",
    "            csv_writer.writerow(header)\n",
    "        csv_writer.writerows(lines_to_write)"
   ]
  },
  {
   "cell_type": "code",
   "execution_count": null,
   "id": "1608adbf",
   "metadata": {
    "id": "1608adbf"
   },
   "outputs": [],
   "source": [
    "## using batch\n",
    "\n",
    "def convert_to_types(type_list, string_list):\n",
    "    converted_tuple = tuple(data_type(value) for data_type, value in zip(type_list, string_list))\n",
    "    return converted_tuple\n",
    "\n",
    "# should recieve a df with all records having the same partition key\n",
    "def df_to_cassandra(df, prepared_query, types, batch_size=20, has_header=True):\n",
    "    for chunk_start in range(0, len(df), batch_size):\n",
    "        chunk_end = min(chunk_start + batch_size, len(df))\n",
    "        chunk = df.iloc[chunk_start:chunk_end]\n",
    "\n",
    "        batch = BatchStatement(consistency_level=ConsistencyLevel.QUORUM, batch_type=BatchType.UNLOGGED)\n",
    "        for index, row in chunk.iterrows():\n",
    "            converted_vals = convert_to_types(types, row.tolist())\n",
    "            batch.add(prepared_query, converted_vals)\n",
    "        session.execute(batch)\n"
   ]
  },
  {
   "cell_type": "code",
   "execution_count": null,
   "id": "35bbbdf9",
   "metadata": {
    "id": "35bbbdf9",
    "outputId": "4a6d356f-c3c0-4cb2-fe0e-f7c324153a76"
   },
   "outputs": [],
   "source": [
    "#prep datafram\n",
    "\n",
    "df_sorted_release_year = albums_df.sort_values(by='release_year', ascending=False)\n",
    "df_sorted_popularity = albums_df.sort_values(by='track_popularity', ascending=False)\n",
    "\n",
    "print(df_sorted_release_year.shape)"
   ]
  },
  {
   "cell_type": "code",
   "execution_count": null,
   "id": "7bc8d705-fcf5-4abc-a7dc-b7103bf7118f",
   "metadata": {
    "id": "7bc8d705-fcf5-4abc-a7dc-b7103bf7118f"
   },
   "outputs": [],
   "source": []
  },
  {
   "cell_type": "code",
   "execution_count": null,
   "id": "c9fb1227",
   "metadata": {
    "id": "c9fb1227",
    "outputId": "31cb0084-4136-4863-de8c-65cc4430d071"
   },
   "outputs": [],
   "source": [
    "df_sorted_popularity.iloc[0]"
   ]
  },
  {
   "cell_type": "code",
   "execution_count": null,
   "id": "e0c4247b",
   "metadata": {
    "id": "e0c4247b"
   },
   "outputs": [],
   "source": [
    "#track_name, track_id,track_number ,duration_ms,album_type, artists,total_tracks ,album_name, release_date,label, album_popularity, album_id, artist_id, duration_sec, track_popularity, release_year, release_month, release_day, danceability, loudness, energy, speechiness, acousticness, instrumentalness, liveness, valence       ,tempo,"
   ]
  },
  {
   "cell_type": "code",
   "execution_count": null,
   "id": "acac76a2",
   "metadata": {
    "id": "acac76a2"
   },
   "outputs": [],
   "source": [
    "# insert release year datafram to casandra table\n",
    "\n",
    "types = [str,str,str,str,str,str,str,str,str,str,str,str,str,str,str,str,str,str,float,float,float,float,float,float,float,float,float,str]\n",
    "\n",
    "statement_track_info = '''\n",
    "INSERT INTO track_info_release_year\n",
    "(track_name, track_id,track_number ,duration_ms,album_type, artists,total_tracks ,album_name, release_date,label, album_popularity, album_id, artist_id, duration_sec, track_popularity, release_year, release_month, release_day, danceability, loudness, energy, speechiness, acousticness, instrumentalness, liveness, valence,tempo, artist_genres)\n",
    " VALUES (?, ?, ?, ?, ?, ?, ?, ?, ?, ?, ?, ?, ?, ?, ?, ?, ?, ?, ?, ?, ?, ?, ?, ?, ?, ?, ?,?);\n",
    "'''\n",
    "prepared_query = session.prepare(statement_track_info)\n",
    "\n",
    "# for max performance we should split out csv by partition\n",
    "df_to_cassandra(df_sorted_release_year, prepared_query, types)\n"
   ]
  },
  {
   "cell_type": "code",
   "execution_count": null,
   "id": "a5c7b808",
   "metadata": {
    "id": "a5c7b808"
   },
   "outputs": [],
   "source": [
    "# insert popularity datafram to casandra table\n",
    "statement_track_info = '''\n",
    "INSERT INTO track_info_popularity\n",
    "(track_name,track_id,track_number,duration_ms,album_type,artists,total_tracks,album_name,release_date,label,album_popularity,album_id,artist_id,duration_sec,track_popularity, release_year,release_month,release_day,danceability,loudness,energy,speechiness,acousticness,instrumentalness,liveness,valence,tempo,artist_genres)\n",
    " VALUES (?, ?, ?, ?, ?, ?, ?, ?, ?, ?, ?, ?, ?, ?, ?, ?, ?, ?, ?, ?, ?, ?, ?, ?, ?, ?, ?, ?);\n",
    "'''\n",
    "prepared_query = session.prepare(statement_track_info)\n",
    "\n",
    "# for max performance we should split out csv by partition\n",
    "df_to_cassandra(df_sorted_popularity, prepared_query, types)\n"
   ]
  },
  {
   "cell_type": "code",
   "execution_count": null,
   "id": "117fbb5a",
   "metadata": {
    "id": "117fbb5a"
   },
   "outputs": [],
   "source": [
    "## some queries for table partitioned by year\n",
    "\n",
    "def find_average_of_property_from_year(property, start, end):\n",
    "    avgs = []\n",
    "    for year in range(start, end + 1):\n",
    "        statement = f\"SELECT AVG({property}) FROM track_info_release_year WHERE release_year = '{year}';\"\n",
    "        avgs.append(session.execute(statement).one()[0])\n",
    "    return avgs\n",
    "\n",
    "def get_all_tracks_in_year(year):\n",
    "    statement = f\"SELECT * FROM track_info_release_year WHERE release_year = '{year}';\"\n",
    "    return session.execute(statement)._current_rows\n",
    "\n",
    "\n"
   ]
  },
  {
   "cell_type": "code",
   "execution_count": null,
   "id": "JA82VkvibMTT",
   "metadata": {
    "id": "JA82VkvibMTT"
   },
   "outputs": [],
   "source": [
    "## some queries for table partitioned by popularity\n",
    "\n",
    "def find_average_of_property_with_popularity_range(property, start, end):\n",
    "    avgs = []\n",
    "    for popularity in range(start, end + 1):\n",
    "        statement = f\"SELECT AVG({property}) FROM track_info_popularity WHERE track_popularity = '{popularity}';\"\n",
    "        avgs.append(session.execute(statement).one()[0])\n",
    "    return(avgs)\n",
    "\n",
    "def get_all_tracks_with_popularity(popularity, column):\n",
    "    statement = f\"SELECT {column} FROM track_info_popularity WHERE track_popularity = '{popularity}';\"\n",
    "    return session.execute(statement)._current_rows\n"
   ]
  },
  {
   "cell_type": "markdown",
   "id": "qvsZTibxdqoZ",
   "metadata": {
    "id": "qvsZTibxdqoZ"
   },
   "source": [
    "## <u>Executing queries<u>"
   ]
  },
  {
   "cell_type": "code",
   "execution_count": null,
   "id": "nNZPz3toaDbA",
   "metadata": {
    "id": "nNZPz3toaDbA",
    "outputId": "2701817a-032d-4213-d794-3fb83a9fc8e6"
   },
   "outputs": [],
   "source": [
    "statement_count_rows_1 = \"SELECT count(*) from track_info_release_year\"\n",
    "print(session.execute(statement_count_rows_1)._current_rows)\n",
    "\n",
    "statement_count_rows_2 = \"SELECT count(*) from track_info_popularity\"\n",
    "print(session.execute(statement_count_rows_2)._current_rows)"
   ]
  },
  {
   "cell_type": "code",
   "execution_count": null,
   "id": "501fcd48",
   "metadata": {
    "id": "501fcd48",
    "outputId": "24940157-8cf3-470d-e8f9-99d5c7b9a30d"
   },
   "outputs": [],
   "source": [
    "find_average_of_property_from_year(\"tempo\", 2000,2005)"
   ]
  },
  {
   "cell_type": "code",
   "execution_count": null,
   "id": "Qmw0OgZPaml_",
   "metadata": {
    "id": "Qmw0OgZPaml_",
    "outputId": "03e8a7e4-1c78-4e5b-881e-d120d4ed8f12"
   },
   "outputs": [],
   "source": [
    "find_average_of_property_with_popularity_range(\"tempo\", 90,99)"
   ]
  },
  {
   "cell_type": "code",
   "execution_count": null,
   "id": "earw5ZhGdgcw",
   "metadata": {
    "id": "earw5ZhGdgcw",
    "outputId": "e7189520-aa1b-4a58-83ae-fcc06195cc63"
   },
   "outputs": [],
   "source": [
    "get_all_tracks_with_popularity(\"99\", \"track_name\")\n",
    "#get_all_tracks_with_popularity(\"99\", \"*\")"
   ]
  },
  {
   "cell_type": "code",
   "execution_count": null,
   "id": "CZsuNtvjoQk2",
   "metadata": {
    "id": "CZsuNtvjoQk2"
   },
   "outputs": [],
   "source": [
    "# compare popular tracks to not popular tracks\n",
    "popular_valence = find_average_of_property_with_popularity_range(\"valence\", 90, 99)\n",
    "unpopular_valence = find_average_of_property_with_popularity_range(\"valence\", 0, 9)\n",
    "\n",
    "popular_danceability = find_average_of_property_with_popularity_range(\"danceability\", 90, 99)\n",
    "unpopular_danceability = find_average_of_property_with_popularity_range(\"danceability\", 0, 9)\n",
    "\n",
    "popular_energy = find_average_of_property_with_popularity_range(\"energy\", 90, 99)\n",
    "unpopular_energy = find_average_of_property_with_popularity_range(\"energy\", 0, 9)\n",
    "\n",
    "popular_liveness = find_average_of_property_with_popularity_range(\"liveness\", 90, 99)\n",
    "unpopular_liveness = find_average_of_property_with_popularity_range(\"liveness\", 0, 9)"
   ]
  },
  {
   "cell_type": "code",
   "execution_count": null,
   "id": "fSP0LGxSoSWt",
   "metadata": {
    "id": "fSP0LGxSoSWt"
   },
   "outputs": [],
   "source": [
    "def print_popular_vs_unpopular(l1,l2):\n",
    "    assert len(l1) == len(l2)\n",
    "    s = \"popular    VS    unpopular \\n\"\n",
    "    for i in range(len(l1)):\n",
    "        s += str(round(l1[i],2)) + \" \\t \\t \"+ str(round(l2[i],2)) + \" \\n\"\n",
    "    return s\n"
   ]
  },
  {
   "cell_type": "code",
   "execution_count": null,
   "id": "_oNs9JPVoUWY",
   "metadata": {
    "id": "_oNs9JPVoUWY",
    "outputId": "355da46c-0535-4d18-b70b-7481c86e2af9"
   },
   "outputs": [],
   "source": [
    "print(print_popular_vs_unpopular(popular_energy, unpopular_energy))\n",
    "print(print_popular_vs_unpopular(popular_liveness, unpopular_liveness))\n",
    "print(print_popular_vs_unpopular(popular_danceability, unpopular_danceability))\n",
    "print(print_popular_vs_unpopular(popular_valence, unpopular_valence))"
   ]
  },
  {
   "cell_type": "markdown",
   "id": "68536a26-74df-4444-9872-dc923f7799b0",
   "metadata": {
    "id": "68536a26-74df-4444-9872-dc923f7799b0"
   },
   "source": [
    "### Most popular years in music and their genres"
   ]
  },
  {
   "cell_type": "code",
   "execution_count": null,
   "id": "df813005-2f7c-4c9d-b5da-f3ee41d1b640",
   "metadata": {
    "id": "df813005-2f7c-4c9d-b5da-f3ee41d1b640"
   },
   "outputs": [],
   "source": [
    "## create table 3\n",
    "\n",
    "try:\n",
    "    session.execute(\"\"\"\n",
    "        CREATE TABLE IF NOT EXISTS release_year_album_popularity (\n",
    "            track_name TEXT,\n",
    "            track_id TEXT,\n",
    "            track_number TEXT,\n",
    "            duration_ms TEXT,\n",
    "            album_type TEXT,\n",
    "            artists TEXT,\n",
    "            total_tracks TEXT,\n",
    "            album_name TEXT,\n",
    "            release_date TEXT,\n",
    "            label TEXT,\n",
    "            album_popularity INT,\n",
    "            album_id TEXT,\n",
    "            artist_id TEXT,\n",
    "            duration_sec TEXT,\n",
    "            release_year TEXT,\n",
    "            track_popularity TEXT,\n",
    "            release_month TEXT,\n",
    "            release_day TEXT,\n",
    "            danceability FLOAT,\n",
    "            loudness FLOAT,\n",
    "            energy FLOAT,\n",
    "            speechiness FLOAT,\n",
    "            acousticness FLOAT,\n",
    "            instrumentalness FLOAT,\n",
    "            liveness FLOAT,\n",
    "            valence FLOAT,\n",
    "            tempo FLOAT,\n",
    "            artist_genres TEXT,\n",
    "            PRIMARY KEY (release_year, album_popularity));\n",
    "    \"\"\")\n",
    "except Exception as e:\n",
    "    print(e)"
   ]
  },
  {
   "cell_type": "code",
   "execution_count": null,
   "id": "0545fc8d-f189-4c0b-ab26-bb1a29b5ecf6",
   "metadata": {
    "id": "0545fc8d-f189-4c0b-ab26-bb1a29b5ecf6"
   },
   "outputs": [],
   "source": [
    "# session.execute(\"DROP TABLE spotify.release_year_album_popularity;\")"
   ]
  },
  {
   "cell_type": "code",
   "execution_count": null,
   "id": "362c9160-b560-4d19-8fed-59169cbd919d",
   "metadata": {
    "id": "362c9160-b560-4d19-8fed-59169cbd919d"
   },
   "outputs": [],
   "source": [
    "# result = session.execute(\"DESCRIBE TABLE release_year_album_popularity\")"
   ]
  },
  {
   "cell_type": "code",
   "execution_count": null,
   "id": "8cb66b80-854a-40ea-893d-40302db56d62",
   "metadata": {
    "id": "8cb66b80-854a-40ea-893d-40302db56d62"
   },
   "outputs": [],
   "source": [
    "# # Iterate through the rows and print each row\n",
    "# for row in result:\n",
    "#     print(row)"
   ]
  },
  {
   "cell_type": "code",
   "execution_count": null,
   "id": "c659d07b-4f8d-4443-a0fb-c2224d186a94",
   "metadata": {
    "id": "c659d07b-4f8d-4443-a0fb-c2224d186a94"
   },
   "outputs": [],
   "source": [
    "# insert release year datafram to casandra table\n",
    "\n",
    "types = [str,str,str,str,str,str,str,str,str,str,int,str,str,str,str,str,str,str,float,float,float,float,float,float,float,float,float,str]\n",
    "\n",
    "\n",
    "statement_track_info = '''\n",
    "INSERT INTO release_year_album_popularity\n",
    "(track_name, track_id,track_number ,duration_ms,album_type, artists,total_tracks ,album_name, release_date,label, album_popularity, album_id, artist_id, duration_sec, track_popularity, release_year, release_month, release_day, danceability, loudness, energy, speechiness, acousticness, instrumentalness, liveness, valence,tempo, artist_genres)\n",
    " VALUES (?, ?, ?, ?, ?, ?, ?, ?, ?, ?, ?, ?, ?, ?, ?, ?, ?, ?, ?, ?, ?, ?, ?, ?, ?, ?, ?,?);\n",
    "'''\n",
    "prepared_query = session.prepare(statement_track_info)\n",
    "\n",
    "# for max performance we should split out csv by partition\n",
    "df_to_cassandra(df_sorted_release_year, prepared_query, types)\n"
   ]
  },
  {
   "cell_type": "code",
   "execution_count": null,
   "id": "736c6435-54cd-4ff1-b62d-e4c170df5f5e",
   "metadata": {
    "id": "736c6435-54cd-4ff1-b62d-e4c170df5f5e"
   },
   "outputs": [],
   "source": [
    "\n",
    "result_set = session.execute(\"\"\"\n",
    "SELECT release_year, AVG(album_popularity) AS avg_popularity, COUNT(*) AS num_albums\n",
    "FROM release_year_album_popularity\n",
    "GROUP BY release_year;\"\"\")\n",
    "rows = list(result_set)\n",
    "\n",
    "\n",
    "avg_popularity_by_years_df = pd.DataFrame(rows)"
   ]
  },
  {
   "cell_type": "code",
   "execution_count": null,
   "id": "7e6a0f11-571d-4585-9501-0f76be26afcd",
   "metadata": {
    "id": "7e6a0f11-571d-4585-9501-0f76be26afcd"
   },
   "outputs": [],
   "source": [
    "avg_popularity_by_years_df.sort_values(by='avg_popularity', ascending=True, inplace=True)"
   ]
  },
  {
   "cell_type": "code",
   "execution_count": null,
   "id": "ffc2eb8f-52e7-419e-b56d-662a593f3411",
   "metadata": {
    "id": "ffc2eb8f-52e7-419e-b56d-662a593f3411"
   },
   "outputs": [],
   "source": [
    "avg_popularity_by_years_df = avg_popularity_by_years_df[avg_popularity_by_years_df['num_albums'] > 15]"
   ]
  },
  {
   "cell_type": "code",
   "execution_count": null,
   "id": "b0b48bc2-1d11-427e-a08d-d91e087d5aad",
   "metadata": {
    "id": "b0b48bc2-1d11-427e-a08d-d91e087d5aad",
    "outputId": "d232873d-85db-4f8a-ec92-f62c9839521b"
   },
   "outputs": [],
   "source": [
    "avg_popularity_by_years_df"
   ]
  },
  {
   "cell_type": "code",
   "execution_count": null,
   "id": "24ad57e6-1952-4333-99bf-06817baa8fe5",
   "metadata": {
    "id": "24ad57e6-1952-4333-99bf-06817baa8fe5",
    "outputId": "be04d3f3-7127-4a2e-ac02-ae5f57a7c8b6"
   },
   "outputs": [],
   "source": [
    "import matplotlib.pyplot as plt\n",
    "# Plot the data\n",
    "plt.scatter(avg_popularity_by_years_df['release_year'], avg_popularity_by_years_df['num_albums'])\n",
    "plt.title(f'Number of album released during the years')\n",
    "plt.xlabel('Release Year')\n",
    "plt.xticks([])\n",
    "plt.ylabel('num_albums')\n",
    "plt.show()"
   ]
  },
  {
   "cell_type": "code",
   "execution_count": null,
   "id": "34fe287b-48bb-4758-82fa-5b29cb5e7e38",
   "metadata": {
    "id": "34fe287b-48bb-4758-82fa-5b29cb5e7e38",
    "outputId": "fb9eb3ac-584f-4a36-c9dd-bf632f88d424"
   },
   "outputs": [],
   "source": [
    "import matplotlib.pyplot as plt\n",
    "# Plot the data\n",
    "plt.scatter(avg_popularity_by_years_df['release_year'], avg_popularity_by_years_df['avg_popularity'])\n",
    "plt.title(f'Popularity of albums during the years')\n",
    "plt.xlabel('Release Year')\n",
    "plt.xticks([])\n",
    "plt.ylabel('avg_popularity')\n",
    "plt.show()"
   ]
  },
  {
   "cell_type": "code",
   "execution_count": null,
   "id": "44abbb64-3ec1-40ac-804e-e87073726cf2",
   "metadata": {
    "id": "44abbb64-3ec1-40ac-804e-e87073726cf2",
    "outputId": "40aa89dc-6a62-43c7-d759-2fbddfdef42f"
   },
   "outputs": [],
   "source": [
    "max_avg_popularity_row = avg_popularity_by_years_df.loc[avg_popularity_by_years_df['avg_popularity'].idxmax()]\n",
    "\n",
    "print(\"release_year with the maximum average popularity:\")\n",
    "print(max_avg_popularity_row['release_year'])"
   ]
  },
  {
   "cell_type": "code",
   "execution_count": null,
   "id": "3f7cf731-944d-4f65-9cc9-726598bfe8f4",
   "metadata": {
    "id": "3f7cf731-944d-4f65-9cc9-726598bfe8f4"
   },
   "outputs": [],
   "source": [
    "\n",
    "result_set = session.execute(\"\"\"\n",
    "SELECT *\n",
    "FROM release_year_album_popularity\n",
    "WHERE release_year='2023';\"\"\")\n",
    "rows = list(result_set)\n",
    "\n",
    "\n",
    "most_popular_year_in_music_df = pd.DataFrame(rows)"
   ]
  },
  {
   "cell_type": "code",
   "execution_count": null,
   "id": "28bf15f6-64ac-4e25-9d69-b608544b2966",
   "metadata": {
    "id": "28bf15f6-64ac-4e25-9d69-b608544b2966",
    "outputId": "a91d31ac-f993-49e8-811e-4bf47d2cffbc"
   },
   "outputs": [],
   "source": [
    "# Assuming 'album_popularity' is a column in most_popular_year_in_music_df\n",
    "album_popularity_values = most_popular_year_in_music_df['album_popularity'].astype(float)\n",
    "\n",
    "# Plotting the distribution as a histogram\n",
    "plt.hist(album_popularity_values, edgecolor='black')  # Adjust the number of bins as needed\n",
    "plt.title('Distribution of Album Popularity')\n",
    "plt.xlabel('Album Popularity')\n",
    "plt.ylabel('Frequency')\n",
    "plt.show()"
   ]
  },
  {
   "cell_type": "code",
   "execution_count": null,
   "id": "67ff4ba8-95f4-4d28-8cc3-6e8135f5bd04",
   "metadata": {
    "id": "67ff4ba8-95f4-4d28-8cc3-6e8135f5bd04"
   },
   "outputs": [],
   "source": [
    "most_popular_albums_2023 = most_popular_year_in_music_df[most_popular_year_in_music_df['album_popularity'] > 80]"
   ]
  },
  {
   "cell_type": "code",
   "execution_count": null,
   "id": "70d5a55d-2622-40e4-9e20-e7928c703e0c",
   "metadata": {
    "id": "70d5a55d-2622-40e4-9e20-e7928c703e0c",
    "outputId": "0311efd4-857d-401e-e31e-454f274bb169"
   },
   "outputs": [],
   "source": [
    "most_popular_albums_2023"
   ]
  },
  {
   "cell_type": "code",
   "execution_count": null,
   "id": "485dc375-7178-4b9f-a385-b35b5e9a2291",
   "metadata": {
    "id": "485dc375-7178-4b9f-a385-b35b5e9a2291"
   },
   "outputs": [],
   "source": [
    "# pip install wordcloud matplotlib\n"
   ]
  },
  {
   "cell_type": "code",
   "execution_count": null,
   "id": "fa7de676-1394-4755-a02a-ca172f3aa2d6",
   "metadata": {
    "id": "fa7de676-1394-4755-a02a-ca172f3aa2d6",
    "outputId": "a84d1dbf-139d-42d2-da62-3101bab8803a"
   },
   "outputs": [],
   "source": [
    "from wordcloud import WordCloud\n",
    "import matplotlib.pyplot as plt\n",
    "\n",
    "all_genres = ' '.join(most_popular_albums_2023['artist_genres'].astype(str))\n",
    "\n",
    "\n",
    "wordcloud = WordCloud(width=800, height=400, background_color='white').generate(all_genres)\n",
    "\n",
    "\n",
    "plt.figure(figsize=(10, 5))\n",
    "plt.imshow(wordcloud, interpolation='bilinear')\n",
    "plt.axis('off')\n",
    "plt.title('Most popular Genres in 2023')\n",
    "plt.show()\n"
   ]
  },
  {
   "cell_type": "code",
   "execution_count": null,
   "id": "19e425c0-0460-4eff-8bc0-7a126bf1afd7",
   "metadata": {
    "id": "19e425c0-0460-4eff-8bc0-7a126bf1afd7"
   },
   "outputs": [],
   "source": [
    "least_popular_albums_2023 = most_popular_year_in_music_df[most_popular_year_in_music_df['album_popularity'] < 25]"
   ]
  },
  {
   "cell_type": "code",
   "execution_count": null,
   "id": "11a0e6f5-a6cc-4fad-9b45-2911d06d7291",
   "metadata": {
    "id": "11a0e6f5-a6cc-4fad-9b45-2911d06d7291",
    "outputId": "2e55a62d-56e8-4374-ba4d-ba7df2c5e638"
   },
   "outputs": [],
   "source": [
    "least_popular_albums_2023"
   ]
  },
  {
   "cell_type": "code",
   "execution_count": null,
   "id": "a4158ad4-b8a6-43de-b7e6-b5c42a9b1319",
   "metadata": {
    "id": "a4158ad4-b8a6-43de-b7e6-b5c42a9b1319",
    "outputId": "792cdb6b-07dc-4f1b-be11-fc015f818aee"
   },
   "outputs": [],
   "source": [
    "all_genres = ' '.join(least_popular_albums_2023['artist_genres'].astype(str))\n",
    "\n",
    "\n",
    "wordcloud = WordCloud(width=800, height=400, background_color='white').generate(all_genres)\n",
    "\n",
    "\n",
    "plt.figure(figsize=(10, 5))\n",
    "plt.imshow(wordcloud, interpolation='bilinear')\n",
    "plt.axis('off')\n",
    "plt.title('Least popular Genres in 2023')\n",
    "plt.show()\n"
   ]
  },
  {
   "cell_type": "code",
   "execution_count": null,
   "id": "b6d33941-b906-4b62-aa35-c32e3a552756",
   "metadata": {
    "id": "b6d33941-b906-4b62-aa35-c32e3a552756"
   },
   "outputs": [],
   "source": [
    "\n",
    "result_set = session.execute(\"SELECT release_year, AVG(album_popularity) AS avg_popularity, COLLECT(artist_genres) AS genres_list FROM albums_with_features GROUP BY release_year\")\n",
    "rows = list(result_set)\n",
    "\n",
    "\n",
    "danceability_vs_popularity_df = pd.DataFrame(rows)"
   ]
  },
  {
   "cell_type": "code",
   "execution_count": null,
   "id": "66613071-e8d7-440b-b633-75aefb626d77",
   "metadata": {
    "id": "66613071-e8d7-440b-b633-75aefb626d77"
   },
   "outputs": [],
   "source": [
    "cluster.shutdown()"
   ]
  },
  {
   "cell_type": "markdown",
   "id": "5ac9a8b9",
   "metadata": {
    "id": "5ac9a8b9",
    "jp-MarkdownHeadingCollapsed": true
   },
   "source": [
    "## <u>non_batch solution for comparisson: <u>"
   ]
  },
  {
   "cell_type": "code",
   "execution_count": null,
   "id": "85c82f5d",
   "metadata": {
    "id": "85c82f5d"
   },
   "outputs": [],
   "source": [
    "try:\n",
    "    session.execute(\"\"\"\n",
    "        CREATE TABLE IF NOT EXISTS track_info_naive_2 (\n",
    "            track_name TEXT,\n",
    "            track_id TEXT,\n",
    "            track_number TEXT,\n",
    "            duration_ms TEXT,\n",
    "            album_type TEXT,\n",
    "            artists TEXT,\n",
    "            total_tracks TEXT,\n",
    "            album_name TEXT,\n",
    "            release_date TEXT,\n",
    "            label TEXT,\n",
    "            album_popularity TEXT,\n",
    "            album_id TEXT,\n",
    "            artist_id TEXT,\n",
    "            artist_0 TEXT,\n",
    "            artist_1 TEXT,\n",
    "            artist_2 TEXT,\n",
    "            artist_3 TEXT,\n",
    "            artist_4 TEXT,\n",
    "            artist_5 TEXT,\n",
    "            artist_6 TEXT,\n",
    "            artist_7 TEXT,\n",
    "            artist_8 TEXT,\n",
    "            artist_9 TEXT,\n",
    "            artist_10 TEXT,\n",
    "            artist_11 TEXT,\n",
    "            duration_sec TEXT,\n",
    "            PRIMARY KEY (album_popularity, track_id));\n",
    "    \"\"\")\n",
    "except Exception as e:\n",
    "    print(e)\n",
    "\n",
    "## naive implementation for comparison\n",
    "def df_to_cassandra_naive(path, prepared_query, types, batch_size=20, has_header=True):\n",
    "        for index, row in path.iterrows():\n",
    "            converted_vals = convert_to_types(types, row.tolist())\n",
    "            session.execute(prepared_query, converted_vals)\n",
    "            #print(\"yes\")\n",
    "\n",
    "types = [str]*26\n",
    "\n",
    "statement = '''\n",
    "INSERT INTO track_info_naive_2\n",
    "(track_name,track_id,track_number,duration_ms,album_type,artists,total_tracks,album_name,release_date,label,album_popularity,album_id,artist_id,duration_sec,release_year,track_popularity,release_month,release_day,danceability,loudness,energy,speechiness,acousticness,instrumentalness,liveness,valence,tempo)\n",
    "VALUES (?, ?, ?, ?, ?, ?, ?, ?, ?, ?, ?, ?, ?, ?, ?, ?, ?, ?, ?, ?, ?, ?, ?, ?, ?, ?, ?);\n",
    "'''\n",
    "prepared_query = session.prepare(statement)\n",
    "\n",
    "# for max performance we should split out csv by partition\n",
    "df_to_cassandra_naive(df, prepared_query, types)\n",
    "\n"
   ]
  },
  {
   "cell_type": "code",
   "execution_count": null,
   "id": "15d11468",
   "metadata": {
    "id": "15d11468"
   },
   "outputs": [],
   "source": []
  },
  {
   "cell_type": "code",
   "execution_count": null,
   "id": "36f5646c",
   "metadata": {
    "id": "36f5646c"
   },
   "outputs": [],
   "source": []
  },
  {
   "cell_type": "code",
   "execution_count": null,
   "id": "c7f9ea81",
   "metadata": {
    "id": "c7f9ea81"
   },
   "outputs": [],
   "source": []
  }
 ],
 "metadata": {
  "colab": {
   "provenance": []
  },
  "kernelspec": {
   "display_name": "Python 3 (ipykernel)",
   "language": "python",
   "name": "python3"
  },
  "language_info": {
   "codemirror_mode": {
    "name": "ipython",
    "version": 3
   },
   "file_extension": ".py",
   "mimetype": "text/x-python",
   "name": "python",
   "nbconvert_exporter": "python",
   "pygments_lexer": "ipython3",
   "version": "3.10.9"
  }
 },
 "nbformat": 4,
 "nbformat_minor": 5
}
