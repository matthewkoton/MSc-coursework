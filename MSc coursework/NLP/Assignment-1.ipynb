{
  "cells": [
    {
      "cell_type": "markdown",
      "metadata": {
        "id": "FECp14-d_F2e"
      },
      "source": [
        "# Set up"
      ]
    },
    {
      "cell_type": "code",
      "execution_count": null,
      "metadata": {
        "colab": {
          "base_uri": "https://localhost:8080/"
        },
        "id": "za-DgcYB_IQx",
        "outputId": "b3577727-b298-47aa-a735-c527c1a4a7a7"
      },
      "outputs": [
        {
          "output_type": "stream",
          "name": "stdout",
          "text": [
            "Cloning into 'assignment_1'...\n",
            "remote: Enumerating objects: 150, done.\u001b[K\n",
            "remote: Counting objects: 100% (44/44), done.\u001b[K\n",
            "remote: Compressing objects: 100% (22/22), done.\u001b[K\n",
            "remote: Total 150 (delta 35), reused 22 (delta 22), pack-reused 106\u001b[K\n",
            "Receiving objects: 100% (150/150), 6.79 MiB | 11.94 MiB/s, done.\n",
            "Resolving deltas: 100% (64/64), done.\n"
          ]
        }
      ],
      "source": [
        "!git clone https://github.com/NLP-Reichman/assignment_1.git\n",
        "!mv assignment_1/data data\n",
        "!rm assignment_1/ -r\n",
        "#"
      ]
    },
    {
      "cell_type": "markdown",
      "metadata": {
        "id": "0i2bOXTB8Dvc"
      },
      "source": [
        "# Introduction\n",
        "In this assignment you will be creating tools for learning and testing language models. The corpora that you will be working with are lists of tweets in 8 different languages that use the Latin script. The data is provided either formatted as CSV or as JSON, for your convenience. The end goal is to write a set of tools that can detect the language of a given tweet.\n",
        "The relevant files are under the data folder:\n",
        "\n",
        "- en.csv (or the equivalent JSON file)\n",
        "- es.csv (or the equivalent JSON file)\n",
        "- fr.csv (or the equivalent JSON file)\n",
        "- in.csv (or the equivalent JSON file)\n",
        "- it.csv (or the equivalent JSON file)\n",
        "- nl.csv (or the equivalent JSON file)\n",
        "- pt.csv (or the equivalent JSON file)\n",
        "- tl.csv (or the equivalent JSON file)"
      ]
    },
    {
      "cell_type": "code",
      "execution_count": null,
      "metadata": {
        "id": "1u1qR7iaq_GU"
      },
      "outputs": [],
      "source": [
        "import json\n",
        "from google.colab import files\n",
        "import pandas as pd\n",
        "import os\n",
        "from collections import defaultdict\n",
        "import numpy as np"
      ]
    },
    {
      "cell_type": "markdown",
      "metadata": {
        "id": "IHN0tWTurwkN"
      },
      "source": [
        "# Implementation"
      ]
    },
    {
      "cell_type": "markdown",
      "metadata": {
        "id": "i56aKA0K8adr"
      },
      "source": [
        "## Part 1\n",
        "Implement the function *preprocess* that iterates over all the data files and creates a single vocabulary, containing all the tokens in the data. Our token definition is a single UTF-8 encoded character. So, the vocabulary list is a simple Python list of all the characters that you see at least once in the data.\n",
        "\n",
        "Note - do NOT lowercase the sentences in whi HW."
      ]
    },
    {
      "cell_type": "code",
      "execution_count": null,
      "metadata": {
        "id": "ws_5u7vRrg0o"
      },
      "outputs": [],
      "source": [
        "def preprocess() -> list[str]:\n",
        "  '''\n",
        "  Return a list of characters, representing the shared vocabulary of all languages\n",
        "  '''\n",
        "  vocab = set()\n",
        "\n",
        "  folder_path = 'data'\n",
        "  csv_files = [file for file in os.listdir(folder_path) if file.endswith('.csv')]\n",
        "  for file in csv_files:\n",
        "    file_path = folder_path + \"/\" + file\n",
        "    df = pd.read_csv(file_path)\n",
        "    tweets = ''.join(df.iloc[:, 1])\n",
        "    vocab |= {*tweets}\n",
        "\n",
        "  vocab_list = list(vocab)\n",
        "  start_token, end_token = \"<start>\", \"<end>\"\n",
        "  vocab_list.append(start_token)\n",
        "  vocab_list.append(end_token)\n",
        "  return vocab_list"
      ]
    },
    {
      "cell_type": "markdown",
      "metadata": {
        "id": "tpjtwHW08jyH"
      },
      "source": [
        "## Part 2\n",
        "Implement the function *lm* that generates a language model from a textual corpus. The function should return a dictionary (representing a model) where the keys are all the relevant *n*-1 sequences, and the values are dictionaries with the *n*_th tokens and their corresponding probabilities to occur. For example, for a trigram model (tokens are characters), it should look something like:\n",
        "\n",
        "{ \"ab\":{\"c\":0.5, \"b\":0.25, \"d\":0.25}, \"ca\":{\"a\":0.2, \"b\":0.7, \"d\":0.1} }\n",
        "\n",
        "which means for example that after the sequence \"ab\", there is a 0.5 chance that \"c\" will appear, 0.25 for \"b\" to appear and 0.25 for \"d\" to appear.\n",
        "\n",
        "Note - You should think how to add the add_one smoothing information to the dictionary and implement it."
      ]
    },
    {
      "cell_type": "code",
      "execution_count": null,
      "metadata": {
        "id": "_xvU486zuC5O"
      },
      "outputs": [],
      "source": [
        "def lm(lang: str, n: int, smoothed: bool = False) -> dict[str, dict[str, float]]:\n",
        "    '''\n",
        "    Return a language model for the given lang and n-gram (n), with an option for smoothing.\n",
        "    :param lang: the language of the model\n",
        "    :param n: the n_gram value\n",
        "    :param smoothed: boolean indicating whether to apply smoothing\n",
        "    :return: a dictionary where the keys are n-1 grams and the values are dictionaries\n",
        "    '''\n",
        "\n",
        "\n",
        "    df = pd.read_csv(f\"data/{lang}.csv\")\n",
        "    vocab = preprocess()\n",
        "    vocab_size = len(vocab)\n",
        "\n",
        "    model: dict[str, dict[str, float]] = {}\n",
        "\n",
        "    tweets = df.iloc[:, 1].tolist()\n",
        "\n",
        "    formatted_tweets = [f'{\"<start>\" * (n-1)}{tweet}<end>' for tweet in tweets]\n",
        "    corpus = ''.join(formatted_tweets)\n",
        "    del tweets, formatted_tweets\n",
        "\n",
        "\n",
        "\n",
        "    tokens = []\n",
        "    i = 0\n",
        "    while i < len(corpus):\n",
        "        if corpus[i:i+7] == '<start>':\n",
        "            tokens.append('<start>')\n",
        "            i += 7\n",
        "        elif corpus[i:i+5] == '<end>':\n",
        "            tokens.append('<end>')\n",
        "            i += 5\n",
        "        else:\n",
        "            tokens.append(corpus[i])\n",
        "            i += 1\n",
        "\n",
        "    del corpus\n",
        "    ngram_counter: dict[str, int] = {}\n",
        "    context_counter: dict[str, int] = {}\n",
        "\n",
        "    for i in range(len(tokens) - n + 1):\n",
        "        ngram = ''.join(tokens[i:i+n])\n",
        "        if ngram not in ngram_counter:\n",
        "          ngram_counter[ngram] = 1\n",
        "        else:\n",
        "          ngram_counter[ngram] += 1\n",
        "\n",
        "    for i in range(len(tokens) - n + 2):\n",
        "        context = ''.join(tokens[i:i+n-1])  # Join tokens to form n-gram\n",
        "        if '<end>' not in context:\n",
        "          if context not in model:\n",
        "           context_counter[context] = 1\n",
        "           model[context] = {}\n",
        "          else:\n",
        "           context_counter[context] += 1\n",
        "\n",
        "    del tokens\n",
        "\n",
        "    for seq in ngram_counter:\n",
        "\n",
        "        if seq[-5:] == '<end>':\n",
        "            context = seq[:-5]\n",
        "            next_token = '<end>'\n",
        "        else:\n",
        "            context = seq[:-1]\n",
        "            next_token = seq[-1]\n",
        "        if context in model:\n",
        "          context_count = context_counter[context]\n",
        "          if smoothed:\n",
        "            model[context][next_token] = (ngram_counter[seq] + 1)/(context_count + vocab_size)\n",
        "          else:\n",
        "            model[context][next_token] = ngram_counter[seq]/context_count\n",
        "\n",
        "    for context, tokens in model.items():\n",
        "      total_count = sum(tokens.values())\n",
        "      for token in tokens:\n",
        "        tokens[token] /= total_count\n",
        "\n",
        "    if smoothed:\n",
        "       model['<unk>'] = 1/vocab_size\n",
        "\n",
        "    return model"
      ]
    },
    {
      "cell_type": "markdown",
      "metadata": {
        "id": "xwZnk7Ke8rW5"
      },
      "source": [
        "## Part 3\n",
        "Implement the function *eval* that returns the perplexity of a model (dictionary) running over the data file of the given target language."
      ]
    },
    {
      "cell_type": "code",
      "execution_count": null,
      "metadata": {
        "id": "Q3qLrhrz8c1I"
      },
      "outputs": [],
      "source": [
        "def eval(model: dict, target_lang: str, n: int) -> float:\n",
        "\n",
        "  df = pd.read_csv(f\"data/{target_lang}.csv\")\n",
        "  tweets = df.iloc[:, 1].tolist()\n",
        "\n",
        "  sum_entropy = 0\n",
        "  for tweet in tweets:\n",
        "    prob = 0\n",
        "    if tweet[0] not in model[f'{\"<start>\" * (n-1)}']:\n",
        "      prob += np.log2(model['<unk>'])\n",
        "    else:\n",
        "      prob += np.log2(model[f'{\"<start>\" * (n-1)}'][tweet[0]])\n",
        "    for i in range(len(tweet) - n + 1):\n",
        "        seq = ''.join(tweet[i:i+n])\n",
        "        if seq[:n-1] in model:\n",
        "          if seq[-1] not in model[seq[:n-1]]:\n",
        "            prob += np.log2(model['<unk>'])\n",
        "          else:\n",
        "            prob += np.log2(model[seq[:n-1]][seq[-1]])\n",
        "        else:\n",
        "          prob += np.log2(model['<unk>'])\n",
        "\n",
        "    entropy = (-1)/(len(tweet)) * prob\n",
        "    sum_entropy += entropy\n",
        "\n",
        "  avg_entropy = sum_entropy/len(tweets)\n",
        "  return 2**avg_entropy"
      ]
    },
    {
      "cell_type": "markdown",
      "metadata": {
        "id": "9ZYVc7hB84LP"
      },
      "source": [
        "## Part 4\n",
        "Implement the *match* function that calls *eval* using a specific value of *n* for every possible language pair among the languages we have data for. You should call *eval* for every language pair four times, with each call assign a different value for *n* (1-4). Each language pair is composed of the source language and the target language. Before you make the call, you need to call the *lm* function to create the language model for the source language. Then you can call *eval* with the language model and the target language. The function should return a pandas DataFrame with the following four columns: *source_lang*, *target_lang*, *n*, *perplexity*. The values for the first two columns are the two-letter language codes. The value for *n* is the *n* you use for generating the specific perplexity values which you should store in the forth column."
      ]
    },
    {
      "cell_type": "code",
      "execution_count": null,
      "metadata": {
        "id": "16ew9aZWroPC"
      },
      "outputs": [],
      "source": [
        "def match() -> pd.DataFrame:\n",
        "  '''\n",
        "  Return a DataFrame containing one line per every language pair and n_gram.\n",
        "  Each line will contain the perplexity calculated when applying the language model\n",
        "  of the source language on the text of the target language.\n",
        "  :return: a DataFrame containing the perplexity values\n",
        "  '''\n",
        "  folder_path = 'data'\n",
        "  csv_files = [file[:-4] for file in os.listdir(folder_path) if file.endswith('.csv')]\n",
        "\n",
        "  data = []\n",
        "\n",
        "  for source in csv_files:\n",
        "    for n in range(1, 5):\n",
        "      model = lm(lang=source, n=n, smoothed = True)\n",
        "\n",
        "      for target in csv_files:\n",
        "        perplexity = eval(model, target, n)\n",
        "        data.append({\n",
        "          \"source\": source,\n",
        "          \"target\": target,\n",
        "          \"n\": n,\n",
        "          \"perplexity\": perplexity\n",
        "          })\n",
        "\n",
        "      model = None\n",
        "  df = pd.DataFrame(data)\n",
        "  return df\n",
        "\n",
        "match()"
      ]
    },
    {
      "cell_type": "markdown",
      "metadata": {
        "id": "pAQoR0dH9C3T"
      },
      "source": [
        "## Part 5\n",
        "Implement the *generate* function which takes a language code, *n*, the prompt (the starting text), the number of tokens to generate, and *r*, which is the random seed for any randomized action you plan to take in your implementation. The function should start generating tokens, one by one, using the language model of the given source language and *n*. The prompt should be used as a starting point for aligning on the probabilities to be used for generating the next token.\n",
        "\n",
        "Note - The generation of the next token should be from the LM's distribution.\n",
        "\n",
        "Note #2 - if you use an <END> token in your vocabulary, then once the <END> token is generated by the model, you should stop generating text."
      ]
    },
    {
      "cell_type": "code",
      "execution_count": null,
      "metadata": {
        "id": "Q290wv1ubMOT"
      },
      "outputs": [],
      "source": [
        "def generate(lang: str, n: int, prompt: str, number_of_tokens: int, r: int) -> str:\n",
        "  '''\n",
        "  Generate text in the given language using the given parameters.\n",
        "  :param lang: the language of the model\n",
        "  :param n: the n_gram value\n",
        "  :param prompt: the prompt to start the generation\n",
        "  :param number_of_tokens: the number of tokens to generate\n",
        "  :param r: the random seed to use\n",
        "  '''\n",
        "  np.random.seed(r)\n",
        "\n",
        "  model = lm(lang = lang, n = n, smoothed = False)\n",
        "  tokens = list(prompt)\n",
        "  context = ''.join(tokens[-(n-1):]) if n>1 else ''\n",
        "  for _ in range(number_of_tokens):\n",
        "    if '<end>' in context:\n",
        "      break\n",
        "    next_tokens, probs = zip(*model[context].items())\n",
        "    probabilities = np.array(probs)\n",
        "    next_token = np.random.choice(next_tokens, p=probabilities)\n",
        "    if next_token == '<end>':\n",
        "      break\n",
        "    tokens.append(next_token)\n",
        "    context = ''.join((context + next_token)[-n+1:]) if n>1 else ''\n",
        "\n",
        "  return \"\".join(tokens)"
      ]
    },
    {
      "cell_type": "markdown",
      "metadata": {
        "id": "eUWX8Ugu9INH"
      },
      "source": [
        "## Part 6\n",
        "Play with your generate function, try to generate different texts in different language and various values of *n*. No need to submit anything of that."
      ]
    },
    {
      "cell_type": "code",
      "execution_count": null,
      "metadata": {
        "id": "0ykbMBzG9LWn",
        "colab": {
          "base_uri": "https://localhost:8080/",
          "height": 35
        },
        "outputId": "fcb48d2c-c941-49c7-8d10-ed3c7bf2ef00"
      },
      "outputs": [
        {
          "output_type": "execute_result",
          "data": {
            "text/plain": [
              "'I amD.lIntudyE pe .oeytt'"
            ],
            "application/vnd.google.colaboratory.intrinsic+json": {
              "type": "string"
            }
          },
          "metadata": {},
          "execution_count": 69
        }
      ],
      "source": [
        "generate('en', 1, \"I am\", 20, 5)"
      ]
    },
    {
      "cell_type": "markdown",
      "metadata": {
        "id": "q2jNlDISr9aL"
      },
      "source": [
        "# Testing"
      ]
    },
    {
      "cell_type": "markdown",
      "metadata": {
        "id": "uv48OCT_sIYW"
      },
      "source": [
        "Copy the content of the **tests.py** file from the repo and paste below. This will create the results.json file and download it to your machine."
      ]
    },
    {
      "cell_type": "code",
      "execution_count": null,
      "metadata": {
        "id": "JZTlc2ieruqq",
        "colab": {
          "base_uri": "https://localhost:8080/",
          "height": 17
        },
        "outputId": "6a930939-9e05-4e60-8858-eb1a96ad6d0a"
      },
      "outputs": [
        {
          "output_type": "display_data",
          "data": {
            "text/plain": [
              "<IPython.core.display.Javascript object>"
            ],
            "application/javascript": [
              "\n",
              "    async function download(id, filename, size) {\n",
              "      if (!google.colab.kernel.accessAllowed) {\n",
              "        return;\n",
              "      }\n",
              "      const div = document.createElement('div');\n",
              "      const label = document.createElement('label');\n",
              "      label.textContent = `Downloading \"${filename}\": `;\n",
              "      div.appendChild(label);\n",
              "      const progress = document.createElement('progress');\n",
              "      progress.max = size;\n",
              "      div.appendChild(progress);\n",
              "      document.body.appendChild(div);\n",
              "\n",
              "      const buffers = [];\n",
              "      let downloaded = 0;\n",
              "\n",
              "      const channel = await google.colab.kernel.comms.open(id);\n",
              "      // Send a message to notify the kernel that we're ready.\n",
              "      channel.send({})\n",
              "\n",
              "      for await (const message of channel.messages) {\n",
              "        // Send a message to notify the kernel that we're ready.\n",
              "        channel.send({})\n",
              "        if (message.buffers) {\n",
              "          for (const buffer of message.buffers) {\n",
              "            buffers.push(buffer);\n",
              "            downloaded += buffer.byteLength;\n",
              "            progress.value = downloaded;\n",
              "          }\n",
              "        }\n",
              "      }\n",
              "      const blob = new Blob(buffers, {type: 'application/binary'});\n",
              "      const a = document.createElement('a');\n",
              "      a.href = window.URL.createObjectURL(blob);\n",
              "      a.download = filename;\n",
              "      div.appendChild(a);\n",
              "      a.click();\n",
              "      div.remove();\n",
              "    }\n",
              "  "
            ]
          },
          "metadata": {}
        },
        {
          "output_type": "display_data",
          "data": {
            "text/plain": [
              "<IPython.core.display.Javascript object>"
            ],
            "application/javascript": [
              "download(\"download_0ea85c07-4b89-4334-996d-30982724c6fd\", \"results.json\", 916)"
            ]
          },
          "metadata": {}
        }
      ],
      "source": [
        "####################\n",
        "# PLACE TESTS HERE #\n",
        "# Create tests\n",
        "def test_preprocess():\n",
        "    return {\n",
        "        'vocab_length': len(preprocess()),\n",
        "    }\n",
        "\n",
        "def test_lm():\n",
        "    return {\n",
        "        'english_2_gram_length': len(lm('en', 2, True)),\n",
        "        'english_3_gram_length': len(lm('en', 3, True)),\n",
        "        'french_3_gram_length': len(lm('fr', 3, True)),\n",
        "        'spanish_3_gram_length': len(lm('es', 3, True)),\n",
        "    }\n",
        "\n",
        "def test_eval():\n",
        "    return {\n",
        "        'en_en': eval(lm('en', 3, True), 'en', 3),\n",
        "        'en_fr': eval(lm('en', 3, True), 'fr', 3),\n",
        "        'en_tl': eval(lm('en', 3, True), 'tl', 3),\n",
        "        'en_nl': eval(lm('en', 3, True), 'nl', 3),\n",
        "    }\n",
        "\n",
        "def test_match():\n",
        "    df = match()\n",
        "    return {\n",
        "        'en_en_3': df[(df['source'] == 'en') & (df['target'] == 'en') & (df['n'] == 3)]['perplexity'].values[0],\n",
        "        'en_tl_3': df[(df['source'] == 'en') & (df['target'] == 'tl') & (df['n'] == 3)]['perplexity'].values[0],\n",
        "        'en_nl_3': df[(df['source'] == 'en') & (df['target'] == 'nl') & (df['n'] == 3)]['perplexity'].values[0],\n",
        "    }\n",
        "\n",
        "def test_generate():\n",
        "    return {\n",
        "        'english_1_gram': generate('en', 1, \"I\", 20, 5),\n",
        "        'english_2_gram': generate('en', 2, \"I am\", 20, 5),\n",
        "        'english_3_gram': generate('en', 3, \"I am\", 20, 5),\n",
        "        'english_4_gram': generate('en', 4, \"I Love\", 20, 5),\n",
        "        'spanish_2_gram': generate('es', 2, \"Soy\", 20, 5),\n",
        "        'spanish_3_gram': generate('es', 3, \"Soy\", 20, 5),\n",
        "        'french_2_gram': generate('fr', 2, \"Je suis\", 20, 5),\n",
        "        'french_3_gram': generate('fr', 3, \"Je suis\", 20, 5),\n",
        "    }\n",
        "\n",
        "TESTS = [test_preprocess, test_lm, test_eval, test_match, test_generate]\n",
        "\n",
        "# Run tests and save results\n",
        "res = {}\n",
        "for test in TESTS:\n",
        "    try:\n",
        "        cur_res = test()\n",
        "        res.update({test.__name__: cur_res})\n",
        "    except Exception as e:\n",
        "        res.update({test.__name__: repr(e)})\n",
        "\n",
        "with open('results.json', 'w') as f:\n",
        "    json.dump(res, f, indent=2)\n",
        "\n",
        "# Download the results.json file\n",
        "files.download('results.json')\n",
        "####################"
      ]
    },
    {
      "cell_type": "code",
      "execution_count": null,
      "metadata": {
        "id": "kCksAA6RisRQ"
      },
      "outputs": [],
      "source": [
        "# Show the local files, results.json should be there now and\n",
        "# also downloaded to your local machine\n",
        "!ls -l"
      ]
    }
  ],
  "metadata": {
    "colab": {
      "provenance": [],
      "gpuType": "A100"
    },
    "kernelspec": {
      "display_name": "Python 3",
      "name": "python3"
    },
    "language_info": {
      "name": "python"
    },
    "accelerator": "GPU"
  },
  "nbformat": 4,
  "nbformat_minor": 0
}